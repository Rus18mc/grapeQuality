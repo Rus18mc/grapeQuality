{
 "cells": [
  {
   "cell_type": "markdown",
   "metadata": {},
   "source": [
    "Grape Quality Dataset Analysis - November 2024\n",
    "\n",
    "The Grape Quality Dataset offers comprehensive information on the physical and chemical properties of grapes. This analysis is conducted using anonymized data sourced from different regions, grape varieties, and farming practices.The dataset provides detailed information about individual grape samples, including their unique identifier, variety, and geographic origin.\n",
    "\n",
    "Objective: To explore the factors impacting grape quality, including physical attributes, ripeness levels, and environmental influences. The goal is to uncover key determinants of quality.\n",
    "\n",
    "Data Sources:  \n",
    "- Grape quality indicators (e.g., weight, size)  \n",
    "- Environmental variables (e.g., soil moisture, rainfall, acidity)  \n",
    "- Data gathered from wine-producing regions such as France, Italy, USA and others"
   ]
  },
  {
   "cell_type": "markdown",
   "metadata": {},
   "source": [
    "Importing all needed libraries:"
   ]
  },
  {
   "cell_type": "code",
   "execution_count": null,
   "metadata": {},
   "outputs": [],
   "source": [
    "import pandas as pd\n",
    "import numpy as np\n",
    "import math\n",
    "import matplotlib as plt\n",
    "from IPython.core.display import display, HTML\n",
    "df = pd.read_csv(\"GRAPE_QUALITY.csv\") "
   ]
  },
  {
   "cell_type": "markdown",
   "metadata": {},
   "source": [
    "Data clean up-check for rows with NaN:"
   ]
  },
  {
   "cell_type": "code",
   "execution_count": null,
   "metadata": {},
   "outputs": [],
   "source": [
    "df.info()"
   ]
  },
  {
   "cell_type": "markdown",
   "metadata": {},
   "source": [
    "installing plotly for future graphs:"
   ]
  },
  {
   "cell_type": "code",
   "execution_count": null,
   "metadata": {},
   "outputs": [],
   "source": [
    "pip install plotly"
   ]
  },
  {
   "cell_type": "code",
   "execution_count": null,
   "metadata": {},
   "outputs": [],
   "source": [
    "import plotly.express as px\n",
    "import plotly.graph_objects as go"
   ]
  },
  {
   "cell_type": "markdown",
   "metadata": {},
   "source": [
    "Descriptive statistics:"
   ]
  },
  {
   "cell_type": "code",
   "execution_count": null,
   "metadata": {},
   "outputs": [],
   "source": [
    "fix_stats = df[['quality_score', 'sugar_content_brix', 'acidity_ph', 'cluster_weight_g', 'berry_size_mm', 'sun_exposure_hours',\t'soil_moisture_percent','rainfall_mm']].describe().T[['mean', '50%', 'std']]\n",
    "fix_stats.rename(columns={'50%': 'median'}, inplace=True)\n",
    "fix_stats.head(10)"
   ]
  },
  {
   "cell_type": "markdown",
   "metadata": {},
   "source": [
    "Checking the right data type of all columns:"
   ]
  },
  {
   "cell_type": "code",
   "execution_count": null,
   "metadata": {},
   "outputs": [],
   "source": [
    "if df['variety'].dtype != 'object':\n",
    "    print(\"Warning: 'variety' column is not of type object.\")\n",
    "if df['region'].dtype != 'object':\n",
    "    print(\"Warning: 'region' column is not of type object.\")\n",
    "if df['quality_category'].dtype != 'object':\n",
    "    print(\"Warning: 'quality_category' column is not of type object.\")\n",
    "numeric_columns = ['quality_score', 'sugar_content_brix', 'acidity_ph',\n",
    "                   'cluster_weight_g', 'berry_size_mm', 'sun_exposure_hours','soil_moisture_percent', 'rainfall_mm']\n",
    "for col in numeric_columns:\n",
    "    if not pd.api.types.is_float_dtype(df[col]):\n",
    "        print(f\"Warning: '{col}' column is not of type float.\")\n",
    "if df['harvest_date'].dtype != 'datetime64':\n",
    "    print(\"Warning: 'harvest_date' column is not of type object.\")\n",
    "\n",
    "\n",
    "\n"
   ]
  },
  {
   "cell_type": "markdown",
   "metadata": {},
   "source": [
    "Here we have simple plot, showing quality categories in percentage:"
   ]
  },
  {
   "cell_type": "code",
   "execution_count": null,
   "metadata": {},
   "outputs": [],
   "source": [
    "value_counts = df['quality_category'].value_counts()\n",
    "plot_data = value_counts.reset_index()\n",
    "plot_data.columns = ['quality_category', 'count']\n",
    "figgg = px.pie(plot_data, \n",
    "    names='quality_category', \n",
    "    values='count',         \n",
    "    title='Grape Quality Categories', \n",
    "    color='quality_category',  \n",
    "    color_discrete_map={'High': 'green', 'Medium': 'purple', 'Low': 'yellow'}  \n",
    ")\n",
    "figgg.show()\n",
    "figgg.write_html('g1.html')\n",
    "display(HTML('g1.html'))\n"
   ]
  },
  {
   "cell_type": "markdown",
   "metadata": {},
   "source": [
    "now let's see what is the most recent rounded quality score:"
   ]
  },
  {
   "cell_type": "code",
   "execution_count": null,
   "metadata": {},
   "outputs": [],
   "source": [
    "df_r = df.round(0)\n",
    "value_counts = df_r['quality_score'].value_counts()\n",
    "value_counts.plot(kind='bar', title = 'quality score', figsize=(5, 5))"
   ]
  },
  {
   "cell_type": "code",
   "execution_count": null,
   "metadata": {},
   "outputs": [],
   "source": [
    "pip install nbformat --upgrade\n"
   ]
  },
  {
   "cell_type": "markdown",
   "metadata": {},
   "source": [
    "Hypothesis:\n",
    "Grape quality is influenced by a combination of environmental factors (e.g., acidity level, climate conditions) and intrinsic grape properties (e.g., sugar content, berry size, cluster weight), with optimal values of these factors correlating with higher quality scores."
   ]
  },
  {
   "cell_type": "markdown",
   "metadata": {},
   "source": [
    "To confirm the hypothesis we can notice interesting thing about the effect of sugar in grapes on its quality:"
   ]
  },
  {
   "cell_type": "code",
   "execution_count": null,
   "metadata": {},
   "outputs": [],
   "source": [
    "figgg = px.scatter(df, x='sugar_content_brix', y='quality_score', labels={'x': 'Sugar', 'y': 'score'})\n",
    "figgg.show()\n",
    "figgg.write_html('g2.html')\n",
    "display(HTML('g2.html'))"
   ]
  },
  {
   "cell_type": "markdown",
   "metadata": {},
   "source": [
    "We make grape quality and sun exposure analysis, this plot shows the grape varieties as well as their quantity of sun exposure in hours, berry size in millimeters and quality score:"
   ]
  },
  {
   "cell_type": "code",
   "execution_count": null,
   "metadata": {},
   "outputs": [],
   "source": [
    "fig = go.Figure()\n",
    "for variety in df[\"variety\"].unique():\n",
    "    subset = df[df[\"variety\"] == variety]\n",
    "    fig.add_trace(\n",
    "        go.Scatter(\n",
    "            x=subset[\"sun_exposure_hours\"],\n",
    "            y=subset[\"quality_score\"],\n",
    "            mode=\"markers\",\n",
    "            name=variety,\n",
    "            marker=dict(size=subset[\"berry_size_mm\"], opacity=0.7),\n",
    "        )\n",
    "    )\n",
    "\n",
    "fig.update_layout(\n",
    "    title=\"Grape Quality Analysis: Sun Exposure vs Quality Score\",\n",
    "    xaxis=dict(title=\"Sun Exposure (Hours)\", showgrid=True),\n",
    "    yaxis=dict(title=\"Quality Score\", showgrid=True),\n",
    "    legend_title_text=\"Variety\",\n",
    "    plot_bgcolor=\"white\",\n",
    ")\n",
    "fig.show()\n",
    "fig.write_html('g3.html')\n",
    "display(HTML('g3.html'))\n"
   ]
  },
  {
   "cell_type": "markdown",
   "metadata": {},
   "source": [
    "The next step is to find out how the amount of rainfall affects the quality of the grapes:"
   ]
  },
  {
   "cell_type": "code",
   "execution_count": null,
   "metadata": {},
   "outputs": [],
   "source": [
    "fik = px.density_contour(df, x=\"rainfall_mm\", y=\"quality_score\")\n",
    "fik.update_traces(contours_coloring=\"fill\", contours_showlabels = True)\n",
    "fik.show()\n",
    "fik.write_html('g4.html')\n",
    "display(HTML('g4.html'))\n",
    "\n"
   ]
  },
  {
   "cell_type": "code",
   "execution_count": null,
   "metadata": {},
   "outputs": [],
   "source": [
    "pip install statsmodels"
   ]
  },
  {
   "cell_type": "markdown",
   "metadata": {},
   "source": [
    "here we see that acidity cannot affect the quality of the grapes:"
   ]
  },
  {
   "cell_type": "code",
   "execution_count": null,
   "metadata": {},
   "outputs": [],
   "source": [
    "fis = px.scatter(df, x=\"quality_score\", y=\"acidity_ph\", trendline=\"ols\")\n",
    "fis.show()\n",
    "fis.write_html('g5.html')\n",
    "display(HTML('g5.html'))\n"
   ]
  },
  {
   "cell_type": "markdown",
   "metadata": {},
   "source": [
    "below we have heatmap plot, telling us that big berry size and medium cluster weight have high quality score:"
   ]
  },
  {
   "cell_type": "code",
   "execution_count": null,
   "metadata": {},
   "outputs": [],
   "source": [
    "\n",
    "fig = px.density_heatmap(df, x = \"cluster_weight_g\"\t, y=\"berry_size_mm\", z=\"quality_score\", color_continuous_scale='Viridis')\n",
    "fig.show()\n",
    "fig.write_html('g6.html')\n",
    "display(HTML('g6.html'))"
   ]
  },
  {
   "cell_type": "markdown",
   "metadata": {},
   "source": [
    "This graph compares the importance of sun exposure and soil moisture for grape quality:"
   ]
  },
  {
   "cell_type": "code",
   "execution_count": null,
   "metadata": {},
   "outputs": [],
   "source": [
    "fig2 = px.scatter_3d(df, x = \"soil_moisture_percent\", y=\"sun_exposure_hours\", z=\"quality_score\", color='variety', opacity=0.7)\n",
    "fig2.show()\n",
    "fig2.write_html('g7.html')\n",
    "display(HTML('g7.html'))"
   ]
  },
  {
   "cell_type": "markdown",
   "metadata": {},
   "source": [
    "Conclusion on the Hypotheses: Quality Score Analysis of Grapes:\n",
    "Based on the analysis, it was observed that most factors significantly influence the quality score of grapes, except for soil moisture and acidity (pH) , which showed little to no measurable impact in the dataset. "
   ]
  },
  {
   "cell_type": "markdown",
   "metadata": {},
   "source": [
    "Now I want to know, where do the best grapes grow?"
   ]
  },
  {
   "cell_type": "markdown",
   "metadata": {},
   "source": [
    "To discover it, I need to add additional column, where region transformed to countries:"
   ]
  },
  {
   "cell_type": "code",
   "execution_count": null,
   "metadata": {},
   "outputs": [],
   "source": [
    "region_counts = df[\"region\"].value_counts()\n",
    "region_counts"
   ]
  },
  {
   "cell_type": "code",
   "execution_count": null,
   "metadata": {},
   "outputs": [],
   "source": [
    "\n",
    "region_to_country = {\n",
    "    \"Napa Valley\": \"USA\", \n",
    "\"Barossa Valley\": \"AUS\", \n",
    "\"Bordeaux\": \"FRA\",\n",
    "\"Mendoza\": \"ARG\", \n",
    "\"Sonoma\": \"USA\", \n",
    "\"Loire Valley\": \"FRA\",\n",
    "\"Rioja\": \"ESP\",\n",
    "\"Tuscany\": \"ITA\"\n",
    "}\n",
    "df[\"country_p\"] = df[\"region\"].map(region_to_country)\n",
    "df"
   ]
  },
  {
   "cell_type": "markdown",
   "metadata": {},
   "source": [
    "Now we can make world map plot to see where is the best grape quality score:"
   ]
  },
  {
   "cell_type": "code",
   "execution_count": null,
   "metadata": {},
   "outputs": [],
   "source": [
    "pdf = df.copy()\n",
    "for country_p in pdf['country_p'].unique():\n",
    "    pdf.loc[pdf['country_p'] == country_p, :] = pdf.loc[pdf['country_p'] == country_p, :].fillna(method='ffill').fillna(0)"
   ]
  },
  {
   "cell_type": "code",
   "execution_count": null,
   "metadata": {},
   "outputs": [],
   "source": [
    "\n",
    "fig5 = px.choropleth(\n",
    "    pdf,                           \n",
    "    locations=\"country_p\",        \n",
    "    color=\"quality_score\",         \n",
    "    hover_name=\"country_p\",        \n",
    "    color_continuous_scale='viridis',\n",
    "    projection=\"natural earth\",    \n",
    "    range_color=[0, 4],           \n",
    "    title=\"Grape Quality Analysis: Geographical position vs Quality Score\",\n",
    ")\n",
    "\n",
    "fig5.show()\n",
    "fig5.write_html('g8.html')\n",
    "display(HTML('g8.html'))"
   ]
  },
  {
   "cell_type": "markdown",
   "metadata": {},
   "source": [
    "So the best grapes grow in the USA:"
   ]
  },
  {
   "cell_type": "code",
   "execution_count": null,
   "metadata": {},
   "outputs": [],
   "source": [
    "from urllib.request import urlopen\n",
    "import json\n",
    "with urlopen('https://raw.githubusercontent.com/plotly/datasets/master/geojson-counties-fips.json') as response:\n",
    "    counties = json.load(response)\n",
    "list_state = ['CA']\n",
    "figg = px.choropleth(geojson=counties, color=[3.52], range_color=([0, 5]),\n",
    "                           color_continuous_scale='Viridis',\n",
    "                           locationmode=\"USA-states\",\n",
    "                           locations=['CA'],\n",
    "                           scope=\"usa\"\n",
    "                          )\n",
    "figg.show()\n",
    "figg.write_html('g9.html')\n",
    "display(HTML('g9.html'))\n"
   ]
  },
  {
   "cell_type": "markdown",
   "metadata": {},
   "source": [
    "As we can see grapes are growing in the only state Califonia"
   ]
  },
  {
   "cell_type": "markdown",
   "metadata": {},
   "source": [
    "Now let's add the column, which summarizing quality score, sun exposure and sugar content, as their sum will show us the best sorts:"
   ]
  },
  {
   "cell_type": "code",
   "execution_count": null,
   "metadata": {},
   "outputs": [],
   "source": [
    "df['qss_sum'] = ( df['quality_score'] + df['sugar_content_brix'] + df['sun_exposure_hours'])\n",
    "df\n"
   ]
  },
  {
   "cell_type": "markdown",
   "metadata": {},
   "source": [
    "So it is interesting to see the best grapes in the whole world and notice which of them from USA:"
   ]
  },
  {
   "cell_type": "code",
   "execution_count": null,
   "metadata": {},
   "outputs": [],
   "source": [
    "df_top = df.sort_values(by='qss_sum', ascending=False)\n",
    "df_top.head(20)\n",
    "df = df.drop_duplicates()\n"
   ]
  },
  {
   "cell_type": "code",
   "execution_count": null,
   "metadata": {},
   "outputs": [],
   "source": [
    "cvk = df_top['country_p'].head(20)\n",
    "usa = cvk.value_counts().get('USA', 0)\n",
    "usa"
   ]
  },
  {
   "cell_type": "markdown",
   "metadata": {},
   "source": [
    "We see that out of 20 best grape countries - USA appears 9 times, it is almost a half!"
   ]
  },
  {
   "cell_type": "markdown",
   "metadata": {},
   "source": [
    "The project successfully identified actionable insights into the drivers of grape quality, \n",
    "supporting vineyards in optimizing growing conditions and improving operations. The findings\n",
    "can guide strategies for enhancing grape production, achieving sustainability, and maximizing\n",
    "the quality of output. "
   ]
  }
 ],
 "metadata": {
  "kernelspec": {
   "display_name": "Python 3",
   "language": "python",
   "name": "python3"
  },
  "language_info": {
   "codemirror_mode": {
    "name": "ipython",
    "version": 3
   },
   "file_extension": ".py",
   "mimetype": "text/x-python",
   "name": "python",
   "nbconvert_exporter": "python",
   "pygments_lexer": "ipython3",
   "version": "3.13.0"
  }
 },
 "nbformat": 4,
 "nbformat_minor": 2
}
